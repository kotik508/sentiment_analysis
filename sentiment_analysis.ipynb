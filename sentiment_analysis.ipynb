{
 "cells": [
  {
   "cell_type": "code",
   "execution_count": 1,
   "metadata": {
    "id": "DerH8mQFxhoA"
   },
   "outputs": [],
   "source": [
    "import pandas as pd\n",
    "import numpy as np\n",
    "from sklearn.ensemble import RandomForestClassifier\n",
    "from sklearn.metrics import confusion_matrix, precision_score, recall_score, f1_score\n",
    "from sklearn.model_selection import train_test_split\n",
    "from xgboost import XGBClassifier\n",
    "from sklearn.feature_extraction.text import CountVectorizer\n",
    "from sklearn.model_selection import StratifiedKFold\n",
    "from nltk.corpus import stopwords\n",
    "import matplotlib.pyplot as plt\n",
    "from sklearn import metrics\n",
    "import xgboost as xgb"
   ]
  },
  {
   "cell_type": "code",
   "execution_count": 2,
   "metadata": {
    "colab": {
     "base_uri": "https://localhost:8080/"
    },
    "id": "sV3DESYLzqjd",
    "outputId": "70c0f895-dab6-4107-812b-a0ab56a1dcff"
   },
   "outputs": [
    {
     "name": "stderr",
     "output_type": "stream",
     "text": [
      "/tmp/ipykernel_863/2675483035.py:15: SettingWithCopyWarning: \n",
      "A value is trying to be set on a copy of a slice from a DataFrame\n",
      "\n",
      "See the caveats in the documentation: https://pandas.pydata.org/pandas-docs/stable/user_guide/indexing.html#returning-a-view-versus-a-copy\n",
      "  data['score'][data['score'] == 5] = 3\n"
     ]
    },
    {
     "name": "stdout",
     "output_type": "stream",
     "text": [
      "Confusion Matrix:\n",
      " [[ 38   6  29]\n",
      " [ 15   3  31]\n",
      " [  5   5 105]]\n",
      "\n",
      "Accuracy: 0.6160337552742616\n",
      "\n",
      "Precision: 0.5019405881474847\n",
      "Recall: 0.4982719710874224\n",
      "F1-Score: 0.4751302556646067\n",
      "Confusion Matrix:\n",
      " [[52 13 22]\n",
      " [21 14 23]\n",
      " [11  8 73]]\n",
      "\n",
      "Accuracy: 0.5864978902953587\n",
      "\n",
      "Precision: 0.5019405881474847\n",
      "Recall: 0.4982719710874224\n",
      "F1-Score: 0.4751302556646067\n",
      "Confusion Matrix:\n",
      " [[ 20   4  23]\n",
      " [ 15   5  31]\n",
      " [  7   3 129]]\n",
      "\n",
      "Accuracy: 0.6497890295358649\n",
      "\n",
      "Precision: 0.5019405881474847\n",
      "Recall: 0.4982719710874224\n",
      "F1-Score: 0.4751302556646067\n",
      "Confusion Matrix:\n",
      " [[82  3 20]\n",
      " [40  9 17]\n",
      " [ 6  3 57]]\n",
      "\n",
      "Accuracy: 0.6244725738396625\n",
      "\n",
      "Precision: 0.5019405881474847\n",
      "Recall: 0.4982719710874224\n",
      "F1-Score: 0.4751302556646067\n"
     ]
    }
   ],
   "source": [
    "# Importing dataset\n",
    "data = pd.read_csv('dataset.csv')\n",
    "\n",
    "# Replacing IDs with more sensible values\n",
    "lookup_table = pd.DataFrame({\n",
    "    'reviewId': data['reviewId'].unique(),\n",
    "    'newId': np.arange(1, 4801)\n",
    "})\n",
    "\n",
    "data = pd.merge(data, lookup_table, on=\"reviewId\", how=\"left\")\n",
    "\n",
    "# Removing unnecessary columns\n",
    "data = data[['newId', 'content', 'userLang', 'score', 'app_id']]\n",
    "data['score'][(data['score'] == 2) | (data['score'] == 3) | (data['score'] == 4)] = 2\n",
    "data['score'][data['score'] == 5] = 3\n",
    "\n",
    "# Simplifying IDs for apps\n",
    "data['app_id'] = data['app_id'].str.extract(r'(?<=\\.)(\\w+)')\n",
    "\n",
    "# Removing Japanese language since Japanese and English reviews are the same\n",
    "data = data[data['userLang'] != 'JP']\n",
    "\n",
    "# Remove unnecessary punctuation and special characters that do not contribute to score analysis\n",
    "data['content'] = data['content'].replace('[^a-zA-Z\\s]', '', regex=True)\n",
    "data['userLang'] = data['userLang'].str.strip()\n",
    "\n",
    "# Splitting into multiple dataframes based on languages\n",
    "en = data[data['userLang'] == 'EN']\n",
    "it = data[data['userLang'] == 'IT']\n",
    "fr = data[data['userLang'] == 'FR']\n",
    "de = data[data['userLang'] == 'DE']\n",
    "\n",
    "# Train-test split\n",
    "np.random.seed(420)\n",
    "sample = np.random.choice([True, False], len(en), replace=True, p=[0.8, 0.2])\n",
    "\n",
    "# Creating document-term matrices\n",
    "vectorizer = CountVectorizer(stop_words='english')\n",
    "en_matrix = vectorizer.fit_transform(en['content'])\n",
    "it_matrix = vectorizer.fit_transform(it['content'])\n",
    "fr_matrix = vectorizer.fit_transform(fr['content'])\n",
    "de_matrix = vectorizer.fit_transform(de['content'])\n",
    "\n",
    "# Classifiers\n",
    "# English\n",
    "en_classifier = RandomForestClassifier(n_estimators=10, max_depth=256, random_state=420)\n",
    "en_classifier.fit(en_matrix[sample], en['score'][sample])\n",
    "\n",
    "en_predicted = en_classifier.predict(en_matrix[~sample])\n",
    "conf_matrix = confusion_matrix(en['score'][~sample], en_predicted)\n",
    "accuracy_en_rf = np.sum(np.diag(conf_matrix)) / np.sum(conf_matrix)\n",
    "precision_en_rf = precision_score(en['score'][~sample], en_predicted, average='macro')\n",
    "recall_en_rf = recall_score(en['score'][~sample], en_predicted, average='macro')\n",
    "f1_en_rf = f1_score(en['score'][~sample], en_predicted, average='macro')\n",
    "\n",
    "print(\"Confusion Matrix:\\n\", conf_matrix)\n",
    "print(\"\\nAccuracy:\", accuracy_en_rf)\n",
    "print(\"\\nPrecision:\", precision_en_rf)\n",
    "print(\"Recall:\", recall_en_rf)\n",
    "print(\"F1-Score:\", f1_en_rf)\n",
    "\n",
    "# Italian\n",
    "it_classifier = RandomForestClassifier(n_estimators=10, max_depth=256, random_state=420)\n",
    "it_classifier.fit(it_matrix[sample], it['score'][sample])\n",
    "\n",
    "it_predicted = it_classifier.predict(it_matrix[~sample])\n",
    "conf_matrix = confusion_matrix(it['score'][~sample], it_predicted)\n",
    "accuracy_it_rf = np.sum(np.diag(conf_matrix)) / np.sum(conf_matrix)\n",
    "precision_it_rf = precision_score(en['score'][~sample], en_predicted, average='macro')\n",
    "recall_it_rf = recall_score(en['score'][~sample], en_predicted, average='macro')\n",
    "f1_it_rf = f1_score(en['score'][~sample], en_predicted, average='macro')\n",
    "\n",
    "print(\"Confusion Matrix:\\n\", conf_matrix)\n",
    "print(\"\\nAccuracy:\", accuracy_it_rf)\n",
    "print(\"\\nPrecision:\", precision_it_rf)\n",
    "print(\"Recall:\", recall_it_rf)\n",
    "print(\"F1-Score:\", f1_it_rf)\n",
    "\n",
    "# French\n",
    "fr_classifier = RandomForestClassifier(n_estimators=10, max_depth=256, random_state=420)\n",
    "fr_classifier.fit(fr_matrix[sample], fr['score'][sample])\n",
    "\n",
    "fr_predicted = fr_classifier.predict(fr_matrix[~sample])\n",
    "conf_matrix = confusion_matrix(fr['score'][~sample], fr_predicted)\n",
    "accuracy_fr_rf = np.sum(np.diag(conf_matrix)) / np.sum(conf_matrix)\n",
    "precision_fr_rf = precision_score(en['score'][~sample], en_predicted, average='macro')\n",
    "recall_fr_rf = recall_score(en['score'][~sample], en_predicted, average='macro')\n",
    "f1_fr_rf = f1_score(en['score'][~sample], en_predicted, average='macro')\n",
    "\n",
    "print(\"Confusion Matrix:\\n\", conf_matrix)\n",
    "print(\"\\nAccuracy:\", accuracy_fr_rf)\n",
    "print(\"\\nPrecision:\", precision_fr_rf)\n",
    "print(\"Recall:\", recall_fr_rf)\n",
    "print(\"F1-Score:\", f1_fr_rf)\n",
    "\n",
    "# German\n",
    "de_classifier = RandomForestClassifier(n_estimators=10, max_depth=256, random_state=420)\n",
    "de_classifier.fit(de_matrix[sample], de['score'][sample])\n",
    "\n",
    "de_predicted = de_classifier.predict(de_matrix[~sample])\n",
    "conf_matrix = confusion_matrix(de['score'][~sample], de_predicted)\n",
    "accuracy_de_rf = np.sum(np.diag(conf_matrix)) / np.sum(conf_matrix)\n",
    "precision_de_rf = precision_score(en['score'][~sample], en_predicted, average='macro')\n",
    "recall_de_rf = recall_score(en['score'][~sample], en_predicted, average='macro')\n",
    "f1_de_rf = f1_score(en['score'][~sample], en_predicted, average='macro')\n",
    "\n",
    "print(\"Confusion Matrix:\\n\", conf_matrix)\n",
    "print(\"\\nAccuracy:\", accuracy_de_rf)\n",
    "print(\"\\nPrecision:\", precision_de_rf)\n",
    "print(\"Recall:\", recall_de_rf)\n",
    "print(\"F1-Score:\", f1_de_rf)\n"
   ]
  },
  {
   "cell_type": "code",
   "execution_count": 3,
   "metadata": {
    "colab": {
     "base_uri": "https://localhost:8080/"
    },
    "id": "-bVdXixb6cn7",
    "outputId": "bcdda132-01a6-451d-d2d6-2c366b6652c4"
   },
   "outputs": [
    {
     "name": "stderr",
     "output_type": "stream",
     "text": [
      "/opt/conda/lib/python3.11/site-packages/xgboost/core.py:160: UserWarning: [11:43:49] WARNING: /workspace/src/learner.cc:742: \n",
      "Parameters: { \"nrounds\" } are not used.\n",
      "\n",
      "  warnings.warn(smsg, UserWarning)\n"
     ]
    },
    {
     "name": "stdout",
     "output_type": "stream",
     "text": [
      "Confusion Matrix:\n",
      " [[ 50   4  36]\n",
      " [  9   1  27]\n",
      " [  8   2 103]]\n",
      "\n",
      "Accuracy: 0.6416666666666667\n",
      "\n",
      "Precision: 0.594018130089655\n",
      "Recall: 0.6416666666666667\n",
      "F1-Score: 0.5935014612600907\n"
     ]
    }
   ],
   "source": [
    "dtm_df = pd.read_csv('dtm_df_en.csv')\n",
    "\n",
    "\n",
    "# Split the data into training and testing sets\n",
    "X_train, X_test, y_train, y_test = train_test_split(dtm_df.iloc[:, :-1], dtm_df['score'], test_size=0.2, random_state=42)\n",
    "\n",
    "# XGBoost model training\n",
    "params = {\n",
    "    'objective': 'multi:softmax',\n",
    "    'num_class': 3,\n",
    "    'max_depth': 7,\n",
    "    'eta': 0.04960584,\n",
    "    'nrounds': 118,\n",
    "    'gamma': 0.06084936,\n",
    "    'colsample_bytree': 0.618977,\n",
    "    'min_child_weight': 1,\n",
    "    'subsample': 0.8547104,\n",
    "    'eval_metric': 'merror'\n",
    "}\n",
    "\n",
    "xg_model = xgb.XGBClassifier(**params)\n",
    "xg_model.fit(X_train, y_train)\n",
    "\n",
    "# Make predictions\n",
    "predictions = xg_model.predict(X_test)\n",
    "\n",
    "# Evaluate the model\n",
    "conf_matrix = metrics.confusion_matrix(y_test, predictions)\n",
    "\n",
    "# Metrics calculation\n",
    "precision_en = metrics.precision_score(y_test, predictions, average='weighted')\n",
    "recall_en = metrics.recall_score(y_test, predictions, average='weighted')\n",
    "f1_score_en = metrics.f1_score(y_test, predictions, average='weighted')\n",
    "accuracy_en = metrics.accuracy_score(y_test, predictions)\n",
    "\n",
    "# Print results\n",
    "print(\"Confusion Matrix:\\n\", conf_matrix)\n",
    "print(\"\\nAccuracy:\", accuracy_en)\n",
    "print(\"\\nPrecision:\", precision_en)\n",
    "print(\"Recall:\", recall_en)\n",
    "print(\"F1-Score:\", f1_score_en)\n"
   ]
  },
  {
   "cell_type": "code",
   "execution_count": 4,
   "metadata": {
    "colab": {
     "base_uri": "https://localhost:8080/"
    },
    "id": "nHxoZwsbRtAa",
    "outputId": "a6d29530-bbd6-4afb-fae1-9c769367eeda"
   },
   "outputs": [
    {
     "name": "stderr",
     "output_type": "stream",
     "text": [
      "/opt/conda/lib/python3.11/site-packages/xgboost/core.py:160: UserWarning: [11:43:51] WARNING: /workspace/src/learner.cc:742: \n",
      "Parameters: { \"nrounds\" } are not used.\n",
      "\n",
      "  warnings.warn(smsg, UserWarning)\n"
     ]
    },
    {
     "name": "stdout",
     "output_type": "stream",
     "text": [
      "Confusion Matrix:\n",
      " [[42 14 26]\n",
      " [13  9 49]\n",
      " [ 5  5 77]]\n",
      "\n",
      "Accuracy: 0.5333333333333333\n",
      "\n",
      "Precision: 0.517890820802005\n",
      "Recall: 0.5333333333333333\n",
      "F1-Score: 0.48947796070195737\n"
     ]
    }
   ],
   "source": [
    "dtm_df = pd.read_csv('dtm_df_it.csv')\n",
    "\n",
    "\n",
    "# Split the data into training and testing sets\n",
    "X_train, X_test, y_train, y_test = train_test_split(dtm_df.iloc[:, :-1], dtm_df['score'], test_size=0.2, random_state=42)\n",
    "\n",
    "# XGBoost model training\n",
    "params = {\n",
    "    'objective': 'multi:softmax',\n",
    "    'num_class': 3,\n",
    "    'max_depth': 7,\n",
    "    'eta': 0.04960584,\n",
    "    'nrounds': 118,\n",
    "    'gamma': 0.06084936,\n",
    "    'colsample_bytree': 0.618977,\n",
    "    'min_child_weight': 1,\n",
    "    'subsample': 0.8547104,\n",
    "    'eval_metric': 'merror'\n",
    "}\n",
    "\n",
    "xg_model = xgb.XGBClassifier(**params)\n",
    "xg_model.fit(X_train, y_train)\n",
    "\n",
    "# Make predictions\n",
    "predictions = xg_model.predict(X_test)\n",
    "\n",
    "# Evaluate the model\n",
    "conf_matrix = metrics.confusion_matrix(y_test, predictions)\n",
    "\n",
    "# Metrics calculation\n",
    "precision_it = metrics.precision_score(y_test, predictions, average='weighted')\n",
    "recall_it = metrics.recall_score(y_test, predictions, average='weighted')\n",
    "f1_score_it = metrics.f1_score(y_test, predictions, average='weighted')\n",
    "accuracy_it = metrics.accuracy_score(y_test, predictions)\n",
    "\n",
    "# Print results\n",
    "print(\"Confusion Matrix:\\n\", conf_matrix)\n",
    "print(\"\\nAccuracy:\", accuracy_it)\n",
    "print(\"\\nPrecision:\", precision_it)\n",
    "print(\"Recall:\", recall_it)\n",
    "print(\"F1-Score:\", f1_score_it)\n"
   ]
  },
  {
   "cell_type": "code",
   "execution_count": 5,
   "metadata": {
    "colab": {
     "base_uri": "https://localhost:8080/"
    },
    "id": "qyNvonlwRytZ",
    "outputId": "38835b8c-7f34-4886-b4a9-c18f2571826d"
   },
   "outputs": [
    {
     "name": "stderr",
     "output_type": "stream",
     "text": [
      "/opt/conda/lib/python3.11/site-packages/xgboost/core.py:160: UserWarning: [11:43:55] WARNING: /workspace/src/learner.cc:742: \n",
      "Parameters: { \"nrounds\" } are not used.\n",
      "\n",
      "  warnings.warn(smsg, UserWarning)\n"
     ]
    },
    {
     "name": "stdout",
     "output_type": "stream",
     "text": [
      "Confusion Matrix:\n",
      " [[ 16   7  27]\n",
      " [  9   5  48]\n",
      " [  0   2 126]]\n",
      "\n",
      "Accuracy: 0.6125\n",
      "\n",
      "Precision: 0.5599235963041933\n",
      "Recall: 0.6125\n",
      "F1-Score: 0.5313907552569367\n"
     ]
    }
   ],
   "source": [
    "dtm_df = pd.read_csv('dtm_df_fr.csv')\n",
    "\n",
    "\n",
    "# Split the data into training and testing sets\n",
    "X_train, X_test, y_train, y_test = train_test_split(dtm_df.iloc[:, :-1], dtm_df['score'], test_size=0.2, random_state=42)\n",
    "\n",
    "# XGBoost model training\n",
    "params = {\n",
    "    'objective': 'multi:softmax',\n",
    "    'num_class': 3,\n",
    "    'max_depth': 7,\n",
    "    'eta': 0.04960584,\n",
    "    'nrounds': 118,\n",
    "    'gamma': 0.06084936,\n",
    "    'colsample_bytree': 0.618977,\n",
    "    'min_child_weight': 1,\n",
    "    'subsample': 0.8547104,\n",
    "    'eval_metric': 'merror'\n",
    "}\n",
    "\n",
    "xg_model = xgb.XGBClassifier(**params)\n",
    "xg_model.fit(X_train, y_train)\n",
    "\n",
    "# Make predictions\n",
    "predictions = xg_model.predict(X_test)\n",
    "\n",
    "# Evaluate the model\n",
    "conf_matrix = metrics.confusion_matrix(y_test, predictions)\n",
    "\n",
    "# Metrics calculation\n",
    "precision_fr = metrics.precision_score(y_test, predictions, average='weighted')\n",
    "recall_fr = metrics.recall_score(y_test, predictions, average='weighted')\n",
    "f1_score_fr = metrics.f1_score(y_test, predictions, average='weighted')\n",
    "accuracy_fr = metrics.accuracy_score(y_test, predictions)\n",
    "\n",
    "# Print results\n",
    "print(\"Confusion Matrix:\\n\", conf_matrix)\n",
    "print(\"\\nAccuracy:\", accuracy_fr)\n",
    "print(\"\\nPrecision:\", precision_fr)\n",
    "print(\"Recall:\", recall_fr)\n",
    "print(\"F1-Score:\", f1_score_fr)\n"
   ]
  },
  {
   "cell_type": "code",
   "execution_count": 6,
   "metadata": {
    "colab": {
     "base_uri": "https://localhost:8080/",
     "height": 564
    },
    "id": "lfQasPkpR1sa",
    "outputId": "898540b5-9f22-4a1f-9a42-ed3897610065"
   },
   "outputs": [
    {
     "name": "stderr",
     "output_type": "stream",
     "text": [
      "/opt/conda/lib/python3.11/site-packages/xgboost/core.py:160: UserWarning: [11:43:58] WARNING: /workspace/src/learner.cc:742: \n",
      "Parameters: { \"nrounds\" } are not used.\n",
      "\n",
      "  warnings.warn(smsg, UserWarning)\n"
     ]
    },
    {
     "name": "stdout",
     "output_type": "stream",
     "text": [
      "Confusion Matrix:\n",
      " [[89  9 18]\n",
      " [23 14 20]\n",
      " [ 7  6 54]]\n",
      "\n",
      "Accuracy: 0.6541666666666667\n",
      "\n",
      "Precision: 0.6399984619035021\n",
      "Recall: 0.6541666666666667\n",
      "F1-Score: 0.6330475136849247\n"
     ]
    }
   ],
   "source": [
    "dtm_df = pd.read_csv('dtm_df_gr.csv')\n",
    "\n",
    "\n",
    "# Split the data into training and testing sets\n",
    "X_train, X_test, y_train, y_test = train_test_split(dtm_df.iloc[:, :-1], dtm_df['score'], test_size=0.2, random_state=42)\n",
    "\n",
    "# XGBoost model training\n",
    "params = {\n",
    "    'objective': 'multi:softmax',\n",
    "    'num_class': 3,\n",
    "    'max_depth': 7,\n",
    "    'eta': 0.04960584,\n",
    "    'nrounds': 118,\n",
    "    'gamma': 0.06084936,\n",
    "    'colsample_bytree': 0.618977,\n",
    "    'min_child_weight': 1,\n",
    "    'subsample': 0.8547104,\n",
    "    'eval_metric': 'merror'\n",
    "}\n",
    "\n",
    "xg_model = xgb.XGBClassifier(**params)\n",
    "xg_model.fit(X_train, y_train)\n",
    "\n",
    "# Make predictions\n",
    "predictions = xg_model.predict(X_test)\n",
    "\n",
    "# Evaluate the model\n",
    "conf_matrix = metrics.confusion_matrix(y_test, predictions)\n",
    "\n",
    "# Metrics calculation\n",
    "precision_de = metrics.precision_score(y_test, predictions, average='weighted')\n",
    "recall_de = metrics.recall_score(y_test, predictions, average='weighted')\n",
    "f1_score_de = metrics.f1_score(y_test, predictions, average='weighted')\n",
    "accuracy_de = metrics.accuracy_score(y_test, predictions)\n",
    "\n",
    "# Print results\n",
    "print(\"Confusion Matrix:\\n\", conf_matrix)\n",
    "print(\"\\nAccuracy:\", accuracy_de)\n",
    "print(\"\\nPrecision:\", precision_de)\n",
    "print(\"Recall:\", recall_de)\n",
    "print(\"F1-Score:\", f1_score_de)\n"
   ]
  },
  {
   "cell_type": "code",
   "execution_count": 7,
   "metadata": {
    "colab": {
     "base_uri": "https://localhost:8080/",
     "height": 564
    },
    "id": "Eklvca0VEBpw",
    "outputId": "fa52dd7b-ef1a-4239-85c2-ef6a6afa2b4c"
   },
   "outputs": [
    {
     "data": {
      "image/png": "[encoded data removed]",
      "text/plain": [
       "<Figure size 1000x600 with 1 Axes>"
      ]
     },
     "metadata": {},
     "output_type": "display_data"
    }
   ],
   "source": [
    "# Data for barplots\n",
    "languages = ['English', 'Italian', 'French', 'German']\n",
    "\n",
    "# RandomForestClassifier metrics\n",
    "accuracy_rf = [accuracy_en_rf, accuracy_it_rf, accuracy_fr_rf, accuracy_de_rf]\n",
    "precision_rf = [precision_en_rf, precision_it_rf, precision_fr_rf, precision_de_rf]\n",
    "recall_rf = [recall_en_rf, recall_it_rf, recall_fr_rf, recall_de_rf]\n",
    "f1_score_rf = [f1_en_rf, f1_it_rf, f1_fr_rf, f1_de_rf]\n",
    "\n",
    "# XGBClassifier metrics\n",
    "accuracy_xgb = [accuracy_en, accuracy_it, accuracy_fr, accuracy_de]\n",
    "precision_xgb = [precision_en, precision_it, precision_fr, precision_de]\n",
    "recall_xgb = [recall_en, recall_it, recall_fr, recall_de]\n",
    "f1_score_xgb = [f1_score_en, f1_score_it, f1_score_fr, f1_score_de]\n",
    "\n",
    "# Barplot for Accuracy\n",
    "plt.figure(figsize=(10, 6))\n",
    "bar_width = 0.35\n",
    "index = np.arange(len(languages))\n",
    "\n",
    "plt.bar(index, accuracy_rf, bar_width, color='blue', alpha=0.7, label='RandomForest')\n",
    "plt.bar(index + bar_width, accuracy_xgb, bar_width, color='orange', alpha=0.7, label='XGBoost')\n",
    "\n",
    "plt.title('Accuracy Comparison Between RandomForest and XGBoost Across Languages')\n",
    "plt.xlabel('Languages')\n",
    "plt.ylabel('Accuracy')\n",
    "plt.xticks(index + bar_width/2, languages)\n",
    "plt.legend()\n",
    "plt.show()"
   ]
  },
  {
   "cell_type": "code",
   "execution_count": 8,
   "metadata": {
    "colab": {
     "base_uri": "https://localhost:8080/",
     "height": 838
    },
    "id": "KHyk2oTagy7C",
    "outputId": "16809d46-5ce8-406d-bdb2-f81801f347e4"
   },
   "outputs": [
    {
     "data": {
      "image/png": "[encoded data removed]",
      "text/plain": [
       "<Figure size 800x600 with 2 Axes>"
      ]
     },
     "metadata": {},
     "output_type": "display_data"
    }
   ],
   "source": [
    "cm_display = metrics.ConfusionMatrixDisplay(confusion_matrix = conf_matrix, display_labels = [1, 2, 3])\n",
    "fig, ax = plt.subplots(figsize=(8, 6))\n",
    "\n",
    "cm_display.plot(ax=ax)\n",
    "plt.show()"
   ]
  },
  {
   "cell_type": "code",
   "execution_count": 9,
   "metadata": {
    "colab": {
     "base_uri": "https://localhost:8080/"
    },
    "id": "hTJngcCcaP2z",
    "outputId": "87be130c-22de-4fb5-dbd2-ddc665e6eeb4"
   },
   "outputs": [
    {
     "name": "stderr",
     "output_type": "stream",
     "text": [
      "/opt/conda/lib/python3.11/site-packages/xgboost/core.py:160: UserWarning: [11:44:06] WARNING: /workspace/src/learner.cc:742: \n",
      "Parameters: { \"nrounds\" } are not used.\n",
      "\n",
      "  warnings.warn(smsg, UserWarning)\n"
     ]
    },
    {
     "name": "stdout",
     "output_type": "stream",
     "text": [
      "Confusion Matrix:\n",
      " [[175  26  94]\n",
      " [ 49  32 153]\n",
      " [ 23  10 398]]\n",
      "\n",
      "Accuracy: 0.6302083333333334\n",
      "\n",
      "Precision: 0.6094543039809527\n",
      "Recall: 0.6302083333333334\n",
      "F1-Score: 0.5822202345063161\n",
      "0.5822202345063161\n"
     ]
    }
   ],
   "source": [
    "dtm_df = pd.read_csv('dtm_df_trans.csv')\n",
    "\n",
    "\n",
    "\n",
    "# Split the data into training and testing sets\n",
    "X_train, X_test, y_train, y_test = train_test_split(dtm_df.iloc[:, :-1], dtm_df['skore'], test_size=0.2, random_state=42)\n",
    "\n",
    "# XGBoost model training\n",
    "params = {\n",
    "    'objective': 'multi:softmax',\n",
    "    'num_class': 3,\n",
    "    'max_depth': 3,\n",
    "    'eta': 0.1819880813472641360584,\n",
    "    'nrounds': 70,\n",
    "    'gamma': 0.06084936,\n",
    "    'colsample_bytree': 0.893352578649596,\n",
    "    'min_child_weight': 1,\n",
    "    'subsample': 0.8900998503939086,\n",
    "    'eval_metric': 'merror'\n",
    "}\n",
    "\n",
    "xg_model = xgb.XGBClassifier(**params)\n",
    "xg_model.fit(X_train, y_train)\n",
    "\n",
    "# Make predictions\n",
    "predictions = xg_model.predict(X_test)\n",
    "\n",
    "# Evaluate the model\n",
    "conf_matrix = metrics.confusion_matrix(y_test, predictions)\n",
    "\n",
    "# Metrics calculation\n",
    "precision = metrics.precision_score(y_test, predictions, average='weighted')\n",
    "recall = metrics.recall_score(y_test, predictions, average='weighted')\n",
    "f1_score = metrics.f1_score(y_test, predictions, average='weighted')\n",
    "accuracy = metrics.accuracy_score(y_test, predictions)\n",
    "\n",
    "# Print results\n",
    "print(\"Confusion Matrix:\\n\", conf_matrix)\n",
    "print(\"\\nAccuracy:\", accuracy)\n",
    "print(\"\\nPrecision:\", precision)\n",
    "print(\"Recall:\", recall)\n",
    "print(\"F1-Score:\", f1_score)\n",
    "print(f1_score)\n",
    "\n"
   ]
  },
  {
   "cell_type": "code",
   "execution_count": 10,
   "metadata": {
    "id": "82blnPLX2ipk"
   },
   "outputs": [],
   "source": [
    "best_params: {'colsample_bytree': 0.893352578649596, 'learning_rate': 0.18198808134726413, 'max_depth': 9, 'n_estimators': 70, 'subsample': 0.8900998503939086}"
   ]
  },
  {
   "cell_type": "code",
   "execution_count": 11,
   "metadata": {
    "colab": {
     "base_uri": "https://localhost:8080/"
    },
    "id": "WbYEFIRdtepg",
    "outputId": "e2fb5e24-1ce6-45ea-85bf-d667964b39be"
   },
   "outputs": [
    {
     "name": "stdout",
     "output_type": "stream",
     "text": [
      "Confusion Matrix:\n",
      " [[171  36  88]\n",
      " [ 70  39 125]\n",
      " [ 39  43 349]]\n",
      "\n",
      "Accuracy: 0.5822916666666667\n",
      "\n",
      "Precision: 0.5470303786757632\n",
      "Recall: 0.5822916666666667\n",
      "F1-Score: 0.5523665138222166\n"
     ]
    }
   ],
   "source": [
    "# Read the data\n",
    "dtm_df = pd.read_csv('dtm_df_trans.csv')\n",
    "\n",
    "# Split the data into training and testing sets\n",
    "X_train, X_test, y_train, y_test = train_test_split(dtm_df.iloc[:, :-1], dtm_df['skore'], test_size=0.2, random_state=42)\n",
    "\n",
    "# Random Forest model training\n",
    "rf_params = {\n",
    "    'n_estimators': 10,  # You can adjust the number of trees as needed\n",
    "    'max_depth': 256,  # You can specify the maximum depth of the trees or leave it as None\n",
    "    'random_state': 420\n",
    "}\n",
    "\n",
    "rf_model = RandomForestClassifier(**rf_params)\n",
    "rf_model.fit(X_train, y_train)\n",
    "\n",
    "# Make predictions\n",
    "predictions = rf_model.predict(X_test)\n",
    "\n",
    "# Evaluate the model\n",
    "conf_matrix = metrics.confusion_matrix(y_test, predictions)\n",
    "\n",
    "# Metrics calculation\n",
    "precision_rf = metrics.precision_score(y_test, predictions, average='weighted')\n",
    "recall_rf = metrics.recall_score(y_test, predictions, average='weighted')\n",
    "f1_score_rf = metrics.f1_score(y_test, predictions, average='weighted')\n",
    "accuracy_rf = metrics.accuracy_score(y_test, predictions)\n",
    "\n",
    "# Print results\n",
    "print(\"Confusion Matrix:\\n\", conf_matrix)\n",
    "print(\"\\nAccuracy:\", accuracy_rf)\n",
    "print(\"\\nPrecision:\", precision_rf)\n",
    "print(\"Recall:\", recall_rf)\n",
    "print(\"F1-Score:\", f1_score_rf)"
   ]
  },
  {
   "cell_type": "code",
   "execution_count": 12,
   "metadata": {
    "colab": {
     "base_uri": "https://localhost:8080/",
     "height": 452
    },
    "id": "7CRJsN9zvLcp",
    "outputId": "9ebd18f0-1e2f-448c-9a23-9f33aee5f1d3"
   },
   "outputs": [
    {
     "data": {
      "image/png": "[encoded data removed]",
      "text/plain": [
       "<Figure size 640x480 with 1 Axes>"
      ]
     },
     "metadata": {},
     "output_type": "display_data"
    }
   ],
   "source": [
    "# Evaluation metrics for Random Forest\n",
    "metrics_rf = [accuracy_rf, precision_rf, recall_rf, f1_score_rf]\n",
    "\n",
    "# Evaluation metrics for XGBoost\n",
    "metrics_xg = [accuracy, precision, recall, f1_score]\n",
    "\n",
    "# Labels for the metrics\n",
    "labels = ['Accuracy', 'Precision', 'Recall', 'F1 Score']\n",
    "\n",
    "# Bar positions\n",
    "x = np.arange(len(labels))\n",
    "\n",
    "# Bar width\n",
    "width = 0.35\n",
    "\n",
    "# Plotting\n",
    "fig, ax = plt.subplots()\n",
    "bar1 = ax.bar(x - width/2, metrics_rf, width, label='Random Forest')\n",
    "bar2 = ax.bar(x + width/2, metrics_xg, width, label='XGBoost')\n",
    "\n",
    "# Add labels, title, and legend to the top-right corner with improved layout\n",
    "ax.set_ylabel('Metrics')\n",
    "ax.set_title('Evaluation Metrics for Random Forest and XGBoost')\n",
    "ax.set_xticks(x)\n",
    "ax.set_xticklabels(labels)\n",
    "\n",
    "# Adjust layout to make space for the legend\n",
    "ax.legend(loc='upper right', bbox_to_anchor=(1.5, 1))\n",
    "\n",
    "# Display the bar plot\n",
    "plt.show()\n"
   ]
  },
  {
   "cell_type": "code",
   "execution_count": null,
   "metadata": {
    "colab": {
     "base_uri": "https://localhost:8080/"
    },
    "id": "SJ2vytq5yYeK",
    "outputId": "16bef535-4669-4d4e-9ef6-0b70cfc12f26"
   },
   "outputs": [],
   "source": [
    "import pandas as pd\n",
    "from sklearn.model_selection import train_test_split, RandomizedSearchCV\n",
    "from sklearn.metrics import precision_score, recall_score, f1_score, accuracy_score, confusion_matrix\n",
    "import xgboost as xgb\n",
    "from scipy.stats import uniform, randint\n",
    "\n",
    "# Load the data\n",
    "dtm_df = pd.read_csv('dtm_df_trans.csv')\n",
    "\n",
    "# Split the data into training and testing sets\n",
    "X_train, X_test, y_train, y_test = train_test_split(dtm_df.iloc[:, :-1], dtm_df['skore'], test_size=0.2, random_state=42)\n",
    "\n",
    "# Define parameter distributions for Random Search\n",
    "param_dist = {\n",
    "    'max_depth': randint(3, 10),\n",
    "    'learning_rate': uniform(0.01, 0.2),\n",
    "    'n_estimators': randint(50, 150),\n",
    "    'subsample': uniform(0.8, 0.2),\n",
    "    'colsample_bytree': uniform(0.8, 0.2),\n",
    "}\n",
    "\n",
    "# XGBoost model\n",
    "xg_model = xgb.XGBClassifier(objective='multi:softmax', num_class=3, eval_metric='merror')\n",
    "\n",
    "# Random Search\n",
    "random_search = RandomizedSearchCV(estimator=xg_model, param_distributions=param_dist, n_iter=10, scoring='accuracy', cv=3, random_state=42)\n",
    "random_search.fit(X_train, y_train)\n",
    "\n",
    "# Best parameters\n",
    "best_params = random_search.best_params_\n",
    "\n",
    "# Train the model with the best parameters\n",
    "best_xg_model = xgb.XGBClassifier(objective='multi:softmax', num_class=3, eval_metric='merror', **best_params)\n",
    "best_xg_model.fit(X_train, y_train)\n",
    "\n",
    "# Make predictions\n",
    "predictions = best_xg_model.predict(X_test)\n",
    "\n",
    "# Evaluate the model\n",
    "conf_matrix = confusion_matrix(y_test, predictions)\n",
    "\n",
    "# Metrics calculation\n",
    "precision = precision_score(y_test, predictions, average='weighted')\n",
    "recall = recall_score(y_test, predictions, average='weighted')\n",
    "f1 = f1_score(y_test, predictions, average='weighted')\n",
    "accuracy = accuracy_score(y_test, predictions)\n",
    "\n",
    "# Print results\n",
    "print(\"Best Parameters:\", best_params)\n",
    "print(\"Confusion Matrix:\\n\", conf_matrix)\n",
    "print(\"\\nAccuracy:\", accuracy)\n",
    "print(\"\\nPrecision:\", precision)\n",
    "print(\"Recall:\", recall)\n",
    "print(\"F1-Score:\", f1)\n"
   ]
  }
 ],
 "metadata": {
  "colab": {
   "provenance": []
  },
  "kernelspec": {
   "display_name": "Python 3 (ipykernel)",
   "language": "python",
   "name": "python3"
  },
  "language_info": {
   "codemirror_mode": {
    "name": "ipython",
    "version": 3
   },
   "file_extension": ".py",
   "mimetype": "text/x-python",
   "name": "python",
   "nbconvert_exporter": "python",
   "pygments_lexer": "ipython3",
   "version": "3.11.6"
  }
 },
 "nbformat": 4,
 "nbformat_minor": 4
}
